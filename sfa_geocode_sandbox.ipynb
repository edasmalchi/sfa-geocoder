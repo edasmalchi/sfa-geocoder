{
 "cells": [
  {
   "cell_type": "code",
   "execution_count": null,
   "id": "8a69e76d-d721-490e-bc8b-40ff5d3f14c3",
   "metadata": {
    "tags": []
   },
   "outputs": [],
   "source": [
    "import pandas as pd\n",
    "import numpy as np\n",
    "import geopandas as gpd\n",
    "import requests"
   ]
  },
  {
   "cell_type": "markdown",
   "id": "d789f7ef-c8c7-4edc-8c3d-e71c2127f854",
   "metadata": {},
   "source": [
    "### Mailchimp API?"
   ]
  },
  {
   "cell_type": "code",
   "execution_count": null,
   "id": "8fd1895d-9279-4805-8389-80e17de3d759",
   "metadata": {},
   "outputs": [],
   "source": [
    "mailchimp_api_key = "
   ]
  },
  {
   "cell_type": "code",
   "execution_count": null,
   "id": "e0d99d90-6a98-4374-a2ed-a8e8f76a0e78",
   "metadata": {},
   "outputs": [],
   "source": [
    "import mailchimp_marketing as MailchimpMarketing\n",
    "from mailchimp_marketing.api_client import ApiClientError\n",
    "\n",
    "try:\n",
    "  client = MailchimpMarketing.Client()\n",
    "  client.set_config({\n",
    "    \"api_key\": mailchimp_api_key,\n",
    "    \"server\": \"us4\"\n",
    "  })\n",
    "\n",
    "  response = client.lists.get_all_lists()\n",
    "#   print(response)\n",
    "except ApiClientError as error:\n",
    "  print(\"Error: {}\".format(error.text))"
   ]
  },
  {
   "cell_type": "code",
   "execution_count": null,
   "id": "8e5d35bc-0631-4e9a-aea9-e190b6d892fd",
   "metadata": {},
   "outputs": [],
   "source": [
    "import hashlib"
   ]
  },
  {
   "cell_type": "code",
   "execution_count": null,
   "id": "e2acd98d-b68f-40d7-bc78-96447e6eb809",
   "metadata": {
    "tags": []
   },
   "outputs": [],
   "source": [
    "# response['lists']"
   ]
  },
  {
   "cell_type": "code",
   "execution_count": null,
   "id": "780a18c8-66db-4be3-9952-49b14559f286",
   "metadata": {},
   "outputs": [],
   "source": [
    "# mailchimp_list = "
   ]
  },
  {
   "cell_type": "code",
   "execution_count": null,
   "id": "e06fe563-4321-4bad-aa48-ce8643de35ea",
   "metadata": {},
   "outputs": [],
   "source": [
    "# members = client.lists.get_list_members_info(mailchimp_list, count=1)"
   ]
  },
  {
   "cell_type": "code",
   "execution_count": null,
   "id": "ff3ece72-baae-464e-8d2d-657d936f02c7",
   "metadata": {},
   "outputs": [],
   "source": [
    "# members"
   ]
  },
  {
   "cell_type": "code",
   "execution_count": null,
   "id": "18ac40d2-ba07-4792-9ef1-f9db902723e9",
   "metadata": {},
   "outputs": [],
   "source": [
    "\n",
    "# subscriber = "
   ]
  },
  {
   "cell_type": "markdown",
   "id": "3ac3a45c-639b-4658-8a83-fdf10e324266",
   "metadata": {},
   "source": [
    "## existing functions..."
   ]
  },
  {
   "cell_type": "code",
   "execution_count": null,
   "id": "88ce5797-7bf0-4eab-8fbc-ee4ea4e3772c",
   "metadata": {},
   "outputs": [],
   "source": [
    "import os\n",
    "mailchimp_api_key = \n",
    "eric_g_maps_key = \n",
    "mailchimp_list = "
   ]
  },
  {
   "cell_type": "code",
   "execution_count": null,
   "id": "49cc3035-fd9e-4a26-983c-405cf1cd6148",
   "metadata": {},
   "outputs": [],
   "source": [
    "boundaries = gpd.read_file('./Political Boundaries v1/LA Political Boundaries.shp')\n",
    "cogs = gpd.read_file('./Regional_Council_Districts_–_SCAG_Region.geojson')\n",
    "cogs = cogs[['SUBREGION', 'geometry']].rename(columns={'SUBREGION':'COG'})\n",
    "senators = pd.read_csv('./senators.csv').set_index('District').fillna('')\n",
    "assemblymembers = pd.read_csv('./assemblyJune21.csv')\n",
    "\n",
    "try:\n",
    "    client = MailchimpMarketing.Client()\n",
    "    client.set_config({\n",
    "        \"api_key\": mailchimp_api_key,\n",
    "        \"server\": \"us4\"\n",
    "      })\n",
    "\n",
    "    response = client.lists.get_all_lists()\n",
    "#   print(response)\n",
    "except ApiClientError as error:\n",
    "    logging.info(\"Error: {}\".format(error.text))\n",
    "\n",
    "sfa_list_id = response['lists'][0]['id']\n",
    "\n",
    "merge_fields = {'NC': 'MMERGE17', 'LA City': 'MMERGE11', 'LA County': 'MMERGE12', 'State Asse': 'MMERGE13',\n",
    "               'State Sena': 'MMERGE14', 'Fed House': 'MMERGE15', 'COG':'MMERGE16'}\n",
    "\n",
    "def geocode (address, key=eric_g_maps_key):\n",
    "    # print(f'key:{key}')\n",
    "    '''Geocode using Google Maps API (Eric's key)'''\n",
    "    url = f'https://maps.googleapis.com/maps/api/geocode/json?address={address}&key={key}'\n",
    "    print(url)\n",
    "    r = requests.get(url)\n",
    "    return r.json()"
   ]
  },
  {
   "cell_type": "code",
   "execution_count": null,
   "id": "c29ef0c7-124b-4f16-b4c4-1fea82bd285c",
   "metadata": {},
   "outputs": [],
   "source": [
    "import logging\n",
    "logging.basicConfig(filename='geocoder.log', encoding='utf=8', level=logging.INFO)"
   ]
  },
  {
   "cell_type": "code",
   "execution_count": null,
   "id": "e8d404b1-cf50-475f-a876-0d0db49b4958",
   "metadata": {},
   "outputs": [],
   "source": [
    "def sanitize_address(address):\n",
    "    address = address.replace('#', 'Unit ')\n",
    "    return address"
   ]
  },
  {
   "cell_type": "code",
   "execution_count": null,
   "id": "ca17bea1-2454-49c7-8db0-27c01ed2f5d6",
   "metadata": {},
   "outputs": [],
   "source": [
    "def geocode_subscriber(subscriber):\n",
    "\n",
    "    # return subscriber\n",
    "    address_fields = subscriber['merge_fields']['ADDRESSYU']\n",
    "    if not address_fields:\n",
    "        logging.info(f'no address for: {subscriber[\"full_name\"]}, {subscriber[\"email_address\"]}')\n",
    "        return gpd.GeoDataFrame()\n",
    "        ## quick fix for missing state info\n",
    "#     print(address_fields)\n",
    "    if not address_fields['state'] and (address_fields['zip'][0] == '9'):\n",
    "        address_fields['state'] = 'CA'\n",
    "        logging.info('updating-->', end='')\n",
    "    address = ' '.join(\n",
    "            [address_fields['addr1'], address_fields['city'], address_fields['state'], address_fields['zip']])\n",
    "    logging.info(address)\n",
    "    address = sanitize_address(address)\n",
    "    \n",
    "    print(f'{subscriber[\"full_name\"]}, {subscriber[\"email_address\"]}')\n",
    "    geocoded = geocode(address)\n",
    "    \n",
    "    if geocoded['status'] in ('INVALID_REQUEST', 'ZERO_RESULTS'):\n",
    "        logging.info(f'no match for: {subscriber[\"full_name\"]}, {subscriber[\"email_address\"]}')\n",
    "        return gpd.GeoDataFrame()\n",
    "    else:\n",
    "        #create Geopandas GeoDataFrame for spatial join\n",
    "        gdf = gpd.GeoDataFrame([geocoded['results'][0]['geometry']['location']])\n",
    "        gdf.geometry = gpd.points_from_xy(gdf['lng'], gdf['lat'])\n",
    "        gdf = gdf.set_crs('EPSG:4326')\n",
    "        return gdf.to_crs('EPSG:3310')"
   ]
  },
  {
   "cell_type": "code",
   "execution_count": null,
   "id": "d81e95ae-a973-49ec-8b3e-70db06935e30",
   "metadata": {},
   "outputs": [],
   "source": [
    "la_city = gpd.read_file('./2022_boundaries/LA_CC/LA City Council Districts 2021.shp').to_crs('EPSG:3310')"
   ]
  },
  {
   "cell_type": "code",
   "execution_count": null,
   "id": "023a91c3-8359-47cc-b4af-cc9a78dcc4b5",
   "metadata": {},
   "outputs": [],
   "source": [
    "la_city.head(1)"
   ]
  },
  {
   "cell_type": "code",
   "execution_count": null,
   "id": "f7c32102-4a23-40dd-a04b-aa1568b2ca4f",
   "metadata": {},
   "outputs": [],
   "source": [
    "la_county = gpd.read_file('./2022_boundaries/LA_County_Supe/LA_Co_Supervisorial_Districts_(2021).shp').to_crs('EPSG:3310')"
   ]
  },
  {
   "cell_type": "code",
   "execution_count": null,
   "id": "d09d690f-c6e9-433a-97da-6c0955c4ed9b",
   "metadata": {},
   "outputs": [],
   "source": [
    "la_county.head(1)"
   ]
  },
  {
   "cell_type": "code",
   "execution_count": null,
   "id": "0ee88266-d3d8-4c82-a1a3-4125915cbfd8",
   "metadata": {},
   "outputs": [],
   "source": [
    "legacy_boundaries = gpd.read_file('./Political Boundaries v1/LA Political Boundaries.shp').to_crs('EPSG:3310')"
   ]
  },
  {
   "cell_type": "code",
   "execution_count": null,
   "id": "dd3b036a-b113-4cab-9f55-2eded4b6e5d8",
   "metadata": {},
   "outputs": [],
   "source": [
    "legacy_boundaries.head(1)"
   ]
  },
  {
   "cell_type": "code",
   "execution_count": null,
   "id": "37923484-8b4a-411c-9e0b-1d3e1178f119",
   "metadata": {},
   "outputs": [],
   "source": [
    "cogs = gpd.read_file('./Regional_Council_Districts_–_SCAG_Region.geojson').to_crs('EPSG:3310')"
   ]
  },
  {
   "cell_type": "code",
   "execution_count": null,
   "id": "71802540-3770-42fc-ae7b-0375a073a701",
   "metadata": {},
   "outputs": [],
   "source": [
    "cogs.head(1)"
   ]
  },
  {
   "cell_type": "code",
   "execution_count": null,
   "id": "5058015f-f6c2-4ff4-a7c9-c40a9f875868",
   "metadata": {},
   "outputs": [],
   "source": [
    "la_nc = gpd.read_file('./2022_boundaries/LA_NC/City of LA Neighborhood Councils.shp').to_crs('EPSG:3310')"
   ]
  },
  {
   "cell_type": "code",
   "execution_count": null,
   "id": "2baf05aa-eec5-4925-9174-15e6e5bfd823",
   "metadata": {},
   "outputs": [],
   "source": [
    "la_nc.head(1)"
   ]
  },
  {
   "cell_type": "code",
   "execution_count": null,
   "id": "d1fcda34-1682-4bce-9e3b-d3b7d4f2bb79",
   "metadata": {},
   "outputs": [],
   "source": [
    "assemblymembers = pd.read_csv('./assemblyJune21.csv')\n",
    "assemblymembers['Dist'] = assemblymembers['Dist'].apply(lambda x: x[:3]).astype('int64')\n",
    "assemblymembers = assemblymembers.set_index('Dist')"
   ]
  },
  {
   "cell_type": "code",
   "execution_count": null,
   "id": "b2b11c60-1c09-4a9e-a6b3-4be17d145cd2",
   "metadata": {},
   "outputs": [],
   "source": [
    "senators = pd.read_csv('./senators.csv').set_index('District').fillna('')"
   ]
  },
  {
   "cell_type": "code",
   "execution_count": null,
   "id": "410e6242-2e34-4105-b684-502c7bf2dc7d",
   "metadata": {},
   "outputs": [],
   "source": [
    "def assembly_name(district):\n",
    "    if district == '':\n",
    "        return\n",
    "    member = assemblymembers.loc[int(district), 'Member'].split(',')\n",
    "    member.reverse()\n",
    "    member = ' '.join(member)\n",
    "    return member.strip()"
   ]
  },
  {
   "cell_type": "code",
   "execution_count": null,
   "id": "9e8c0c60-1d41-4ffe-b100-28ff5e39d583",
   "metadata": {},
   "outputs": [],
   "source": [
    "def senate_name(district):\n",
    "    if district == '':\n",
    "        return\n",
    "    senator = ' '.join(senators.loc[int(district)])\n",
    "    return senator.strip()"
   ]
  },
  {
   "cell_type": "code",
   "execution_count": null,
   "id": "31e559c8-3a00-49f9-8db2-d8465556f404",
   "metadata": {},
   "outputs": [],
   "source": [
    "def sjoin_return(sub_gdf, boundary_gdf, col, _int=True):\n",
    "    boundary_gdf = boundary_gdf[[col, 'geometry']]\n",
    "    joined = gpd.sjoin(sub_gdf, boundary_gdf)\n",
    "    if joined.empty:\n",
    "        return ''\n",
    "    value = joined[col].iloc[0]\n",
    "    if _int and type(value) != str:\n",
    "        value = int(value)\n",
    "    return str(value)"
   ]
  },
  {
   "cell_type": "code",
   "execution_count": null,
   "id": "a2ebb420-c72c-42a9-9dfe-476a89b874ca",
   "metadata": {},
   "outputs": [],
   "source": [
    "merge_fields = {'NC': 'NC', 'LA City': 'LACOUNCILD', 'LA County': 'LACOUNTYD', 'State Asse': 'CAASSEMBLD',\n",
    "               'State Sena': 'CASENATED', 'Fed House': 'CONDISTRIC', 'COG':'COG', 'CASENATOR': 'CASENATOR',\n",
    "               'CAASSEMBLY': 'CAASSEMBLY'}"
   ]
  },
  {
   "cell_type": "code",
   "execution_count": null,
   "id": "1672ac38-fc25-4a8e-a460-f2d392b18865",
   "metadata": {},
   "outputs": [],
   "source": [
    "def geocode_and_update_subscriber(subscriber_id):\n",
    "    \n",
    "    subscriber = client.lists.get_list_member(list_id=mailchimp_list,\n",
    "                                              subscriber_hash=subscriber_id)\n",
    "\n",
    "    geocoded = geocode_subscriber(subscriber)\n",
    "    if not geocoded.empty:\n",
    "        #add geocoded info to Mailchimp merge fields\n",
    "        subscriber['merge_fields'][merge_fields['LA City']] = sjoin_return(geocoded, la_city, 'district')\n",
    "        subscriber['merge_fields'][merge_fields['LA County']] = sjoin_return(geocoded, la_county, 'DISTRICT')\n",
    "        subscriber['merge_fields'][merge_fields['State Asse']] = sjoin_return(geocoded, legacy_boundaries, 'State Asse')\n",
    "        subscriber['merge_fields'][merge_fields['State Sena']] = sjoin_return(geocoded, legacy_boundaries, 'State Sena')\n",
    "        subscriber['merge_fields'][merge_fields['Fed House']] = sjoin_return(geocoded, legacy_boundaries, 'Fed House')\n",
    "        subscriber['merge_fields'][merge_fields['COG']] = sjoin_return(geocoded, cogs, 'SUBREGION')\n",
    "        subscriber['merge_fields'][merge_fields['NC']] = sjoin_return(geocoded, la_nc, 'name')\n",
    "        #value lookup for names\n",
    "        subscriber['merge_fields'][merge_fields['CASENATOR']] = senate_name(subscriber['merge_fields'][merge_fields['State Sena']])\n",
    "        subscriber['merge_fields'][merge_fields['CAASSEMBLY']] = assembly_name(subscriber['merge_fields'][merge_fields['State Asse']])\n",
    "\n",
    "\n",
    "    else:\n",
    "        return\n",
    "    \n",
    "    #update subscriber info\n",
    "    try:\n",
    "        # print(subscriber)\n",
    "        client.lists.update_list_member(\n",
    "            list_id=mailchimp_list, subscriber_hash=subscriber_id, body=subscriber)\n",
    "    except ApiClientError as error:\n",
    "        logging.info(\"Error: {}\".format(error.text))\n",
    "    return "
   ]
  },
  {
   "cell_type": "code",
   "execution_count": null,
   "id": "a8014ee0-ad43-4db1-94cf-c202d34b8b9d",
   "metadata": {
    "tags": []
   },
   "outputs": [],
   "source": [
    "# client.lists.get_list_merge_fields(mailchimp_list, count=30)"
   ]
  },
  {
   "cell_type": "code",
   "execution_count": null,
   "id": "716716bd-f073-44ee-add8-715ac008b0c5",
   "metadata": {},
   "outputs": [],
   "source": [
    "def hash_email(email):\n",
    "    h1 = hashlib.md5(email.encode())\n",
    "    return h1.hexdigest()"
   ]
  },
  {
   "cell_type": "code",
   "execution_count": null,
   "id": "c5b07655-2ffb-4f82-9480-b8c328db17b1",
   "metadata": {
    "tags": []
   },
   "outputs": [],
   "source": [
    "# manually update subscribers (backup first!)\n",
    "# for offset in range(0,3800,200):\n",
    "for offset in range(0,3801,200):\n",
    "    logging.info(offset)\n",
    "    print(offset)\n",
    "    members = client.lists.get_list_members_info(mailchimp_list, count=200, offset=offset)\n",
    "    for member in members['members']:\n",
    "        logging.info(f'next: {member[\"full_name\"]}, {member[\"email_address\"]}, {member[\"id\"]}')\n",
    "        try:\n",
    "            geocode_and_update_subscriber(member['id'])\n",
    "        except Exception as e:\n",
    "            print(e)\n",
    "            logging.info(f'geocode failed for {member[\"full_name\"]}')\n",
    "            logging.info(e)"
   ]
  }
 ],
 "metadata": {
  "kernelspec": {
   "display_name": "Python 3 (ipykernel)",
   "language": "python",
   "name": "python3"
  },
  "language_info": {
   "codemirror_mode": {
    "name": "ipython",
    "version": 3
   },
   "file_extension": ".py",
   "mimetype": "text/x-python",
   "name": "python",
   "nbconvert_exporter": "python",
   "pygments_lexer": "ipython3",
   "version": "3.10.6"
  }
 },
 "nbformat": 4,
 "nbformat_minor": 5
}
